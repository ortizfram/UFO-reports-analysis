{
 "cells": [
  {
   "cell_type": "markdown",
   "id": "a714d386-3810-476c-9283-d4418570c865",
   "metadata": {},
   "source": [
    "**Franco Ortiz** :Data scientist\n",
    "\n",
    "UFO-reports-analysis\n",
    "# Problem Statement\n",
    "### Questions to answer\n",
    "- What time is more frequent to see them?\n",
    "- How long did the experience take?\n",
    "- What shapes are most common and where?\n",
    "- Top words that described that moment (wordcloud)\n",
    "- heat map with quantities and cities for number of sightings"
   ]
  },
  {
   "cell_type": "markdown",
   "id": "56c1994a-b5a5-4322-b596-080093d4d5a2",
   "metadata": {},
   "source": [
    "# Data importing\n",
    "#### modules"
   ]
  },
  {
   "cell_type": "code",
   "execution_count": 44,
   "id": "5b61bfed-f017-4faf-aabe-d908796334c8",
   "metadata": {},
   "outputs": [],
   "source": [
    "import pandas as pd\n",
    "import datetime as dt\n",
    "import numpy as np\n",
    "import seaborn as sns\n",
    "import matplotlib.pyplot as plt\n",
    "from dataprep.clean import clean_date\n",
    "\n",
    "\n",
    "# set seed for reproducibility\n",
    "np.random.seed(0)"
   ]
  },
  {
   "cell_type": "code",
   "execution_count": 4,
   "id": "bd7f4fbd-102a-4d8d-ab84-ad541323f6a6",
   "metadata": {},
   "outputs": [
    {
     "data": {
      "text/html": [
       "<div>\n",
       "<style scoped>\n",
       "    .dataframe tbody tr th:only-of-type {\n",
       "        vertical-align: middle;\n",
       "    }\n",
       "\n",
       "    .dataframe tbody tr th {\n",
       "        vertical-align: top;\n",
       "    }\n",
       "\n",
       "    .dataframe thead th {\n",
       "        text-align: right;\n",
       "    }\n",
       "</style>\n",
       "<table border=\"1\" class=\"dataframe\">\n",
       "  <thead>\n",
       "    <tr style=\"text-align: right;\">\n",
       "      <th></th>\n",
       "      <th>Date / Time</th>\n",
       "      <th>City</th>\n",
       "      <th>State</th>\n",
       "      <th>Country</th>\n",
       "      <th>Shape</th>\n",
       "      <th>Duration</th>\n",
       "      <th>Summary</th>\n",
       "      <th>Posted</th>\n",
       "      <th>Images</th>\n",
       "    </tr>\n",
       "  </thead>\n",
       "  <tbody>\n",
       "    <tr>\n",
       "      <th>0</th>\n",
       "      <td>00:00</td>\n",
       "      <td>Dieppe (Moncton) (Canada)</td>\n",
       "      <td>NB</td>\n",
       "      <td>Canada</td>\n",
       "      <td>Oval</td>\n",
       "      <td>NaN</td>\n",
       "      <td>((HOAX??)) we wher looking .. in the sky in di...</td>\n",
       "      <td>9/24/12</td>\n",
       "      <td>NaN</td>\n",
       "    </tr>\n",
       "    <tr>\n",
       "      <th>1</th>\n",
       "      <td>4/ 23:22</td>\n",
       "      <td>Atlantic City</td>\n",
       "      <td>NJ</td>\n",
       "      <td>USA</td>\n",
       "      <td>Disk</td>\n",
       "      <td>30 minutes</td>\n",
       "      <td>Observed a very bright white saucer (had two l...</td>\n",
       "      <td>5/6/17</td>\n",
       "      <td>NaN</td>\n",
       "    </tr>\n",
       "    <tr>\n",
       "      <th>2</th>\n",
       "      <td>03142020 23:04</td>\n",
       "      <td>Norwich</td>\n",
       "      <td>VT</td>\n",
       "      <td>USA</td>\n",
       "      <td>Circle</td>\n",
       "      <td>97 seconds</td>\n",
       "      <td>Strange sighting in the sky</td>\n",
       "      <td>5/15/20</td>\n",
       "      <td>NaN</td>\n",
       "    </tr>\n",
       "    <tr>\n",
       "      <th>3</th>\n",
       "      <td>1970s 23:00</td>\n",
       "      <td>Grande Summit</td>\n",
       "      <td>PA</td>\n",
       "      <td>USA</td>\n",
       "      <td>Light</td>\n",
       "      <td>5 minutes</td>\n",
       "      <td>4 lights speeding very fast across sky silently</td>\n",
       "      <td>8/16/21</td>\n",
       "      <td>NaN</td>\n",
       "    </tr>\n",
       "    <tr>\n",
       "      <th>4</th>\n",
       "      <td>23:00</td>\n",
       "      <td>Desolation Wilderness</td>\n",
       "      <td>CA</td>\n",
       "      <td>USA</td>\n",
       "      <td>Triangle</td>\n",
       "      <td>2 min.</td>\n",
       "      <td>triangle of lights moving slowly through the n...</td>\n",
       "      <td>9/15/05</td>\n",
       "      <td>NaN</td>\n",
       "    </tr>\n",
       "    <tr>\n",
       "      <th>5</th>\n",
       "      <td>23:00</td>\n",
       "      <td>Playa del Rey</td>\n",
       "      <td>CA</td>\n",
       "      <td>USA</td>\n",
       "      <td>Fireball</td>\n",
       "      <td>3-5 seconds</td>\n",
       "      <td>Neon green, long-tailed fireball meteor-lookin...</td>\n",
       "      <td>7/8/04</td>\n",
       "      <td>NaN</td>\n",
       "    </tr>\n",
       "    <tr>\n",
       "      <th>6</th>\n",
       "      <td>23:00</td>\n",
       "      <td>Milltown (Canada)</td>\n",
       "      <td>NB</td>\n",
       "      <td>Canada</td>\n",
       "      <td>Circle</td>\n",
       "      <td>NaN</td>\n",
       "      <td>I wonder where they are today, and if they are...</td>\n",
       "      <td>6/4/04</td>\n",
       "      <td>NaN</td>\n",
       "    </tr>\n",
       "    <tr>\n",
       "      <th>7</th>\n",
       "      <td>23:00</td>\n",
       "      <td>Manning</td>\n",
       "      <td>SC</td>\n",
       "      <td>USA</td>\n",
       "      <td>Sphere</td>\n",
       "      <td>2 minutes</td>\n",
       "      <td>The object was metallic in color. Spherical in...</td>\n",
       "      <td>6/25/20</td>\n",
       "      <td>NaN</td>\n",
       "    </tr>\n",
       "    <tr>\n",
       "      <th>8</th>\n",
       "      <td>23:00</td>\n",
       "      <td>New Alexandria</td>\n",
       "      <td>PA</td>\n",
       "      <td>USA</td>\n",
       "      <td>Other</td>\n",
       "      <td>15 minutes</td>\n",
       "      <td>Translucent UFO.</td>\n",
       "      <td>5/9/19</td>\n",
       "      <td>NaN</td>\n",
       "    </tr>\n",
       "    <tr>\n",
       "      <th>9</th>\n",
       "      <td>23:00</td>\n",
       "      <td>Northern California Coast (in, highway)</td>\n",
       "      <td>CA</td>\n",
       "      <td>USA</td>\n",
       "      <td>Cigar</td>\n",
       "      <td>3-5 min.</td>\n",
       "      <td>We were travelling along the coast of Californ...</td>\n",
       "      <td>10/2/99</td>\n",
       "      <td>NaN</td>\n",
       "    </tr>\n",
       "    <tr>\n",
       "      <th>10</th>\n",
       "      <td>23:00</td>\n",
       "      <td>14 Island Lake (Canada)</td>\n",
       "      <td>QC</td>\n",
       "      <td>Canada</td>\n",
       "      <td>Fireball</td>\n",
       "      <td>~2-3 sec.</td>\n",
       "      <td>A 2-3 second streak of an emerald green laser-...</td>\n",
       "      <td>6/4/04</td>\n",
       "      <td>NaN</td>\n",
       "    </tr>\n",
       "    <tr>\n",
       "      <th>11</th>\n",
       "      <td>04/00/80 23:00</td>\n",
       "      <td>Cohoctah</td>\n",
       "      <td>MI</td>\n",
       "      <td>USA</td>\n",
       "      <td>Unknown</td>\n",
       "      <td>15 min</td>\n",
       "      <td>I Know this was 20 years ago. It still bothers...</td>\n",
       "      <td>11/9/99</td>\n",
       "      <td>NaN</td>\n",
       "    </tr>\n",
       "    <tr>\n",
       "      <th>12</th>\n",
       "      <td>22:55</td>\n",
       "      <td>Corby (UK/England)</td>\n",
       "      <td>NaN</td>\n",
       "      <td>United Kingdom</td>\n",
       "      <td>Cigar</td>\n",
       "      <td>10.to 15.mins</td>\n",
       "      <td>I WAS LOCKING UP MY PIGEONS FOR THE NIGHT.BRIG...</td>\n",
       "      <td>2/24/01</td>\n",
       "      <td>NaN</td>\n",
       "    </tr>\n",
       "    <tr>\n",
       "      <th>13</th>\n",
       "      <td>22:50</td>\n",
       "      <td>Necochea (Argentina)</td>\n",
       "      <td>NaN</td>\n",
       "      <td>Argentina</td>\n",
       "      <td>Formation</td>\n",
       "      <td>10 seconds</td>\n",
       "      <td>Crafts in the South of the World</td>\n",
       "      <td>8/28/02</td>\n",
       "      <td>NaN</td>\n",
       "    </tr>\n",
       "    <tr>\n",
       "      <th>14</th>\n",
       "      <td>O6/03/19 22:44</td>\n",
       "      <td>Louisville</td>\n",
       "      <td>KY</td>\n",
       "      <td>USA</td>\n",
       "      <td>Light</td>\n",
       "      <td>30 seconds</td>\n",
       "      <td>Thought it was a plane at first but it was mov...</td>\n",
       "      <td>10/4/19</td>\n",
       "      <td>NaN</td>\n",
       "    </tr>\n",
       "    <tr>\n",
       "      <th>15</th>\n",
       "      <td>09/16/01 22:38</td>\n",
       "      <td>Bonita Springs</td>\n",
       "      <td>FL</td>\n",
       "      <td>USA</td>\n",
       "      <td>Circle</td>\n",
       "      <td>2hours</td>\n",
       "      <td>THEY WERE IN A Z PATTERN.</td>\n",
       "      <td>10/12/01</td>\n",
       "      <td>NaN</td>\n",
       "    </tr>\n",
       "    <tr>\n",
       "      <th>16</th>\n",
       "      <td>hudson river = town of wa 22:34</td>\n",
       "      <td>Washingtonville</td>\n",
       "      <td>NY</td>\n",
       "      <td>USA</td>\n",
       "      <td>Disk</td>\n",
       "      <td>1hour 15 minutes</td>\n",
       "      <td>It was late at night (I live in Campbell Hall ...</td>\n",
       "      <td>3/16/00</td>\n",
       "      <td>NaN</td>\n",
       "    </tr>\n",
       "    <tr>\n",
       "      <th>17</th>\n",
       "      <td>01/15/70 22:30</td>\n",
       "      <td>Melbourne (VIC, Australia)</td>\n",
       "      <td>VI</td>\n",
       "      <td>Australia</td>\n",
       "      <td>Circle</td>\n",
       "      <td>45 mins</td>\n",
       "      <td>We were sitting outside on a hot night, when o...</td>\n",
       "      <td>1/28/99</td>\n",
       "      <td>NaN</td>\n",
       "    </tr>\n",
       "    <tr>\n",
       "      <th>18</th>\n",
       "      <td>00/00/99 22:30</td>\n",
       "      <td>Iron Bridge (UK/England)</td>\n",
       "      <td>NaN</td>\n",
       "      <td>United Kingdom</td>\n",
       "      <td>Light</td>\n",
       "      <td>2mins</td>\n",
       "      <td>3 lights in sky joined together as one then fe...</td>\n",
       "      <td>3/19/02</td>\n",
       "      <td>NaN</td>\n",
       "    </tr>\n",
       "    <tr>\n",
       "      <th>19</th>\n",
       "      <td>22:30</td>\n",
       "      <td>Mesa Arizona</td>\n",
       "      <td>AZ</td>\n",
       "      <td>USA</td>\n",
       "      <td>Light</td>\n",
       "      <td>20 minutes</td>\n",
       "      <td>Two bright lights pulsating. Moved up down sid...</td>\n",
       "      <td>6/20/19</td>\n",
       "      <td>NaN</td>\n",
       "    </tr>\n",
       "  </tbody>\n",
       "</table>\n",
       "</div>"
      ],
      "text/plain": [
       "                        Date / Time                                     City  \\\n",
       "0                             00:00                Dieppe (Moncton) (Canada)   \n",
       "1                          4/ 23:22                            Atlantic City   \n",
       "2                    03142020 23:04                                  Norwich   \n",
       "3                       1970s 23:00                            Grande Summit   \n",
       "4                             23:00                    Desolation Wilderness   \n",
       "5                             23:00                            Playa del Rey   \n",
       "6                             23:00                        Milltown (Canada)   \n",
       "7                             23:00                                  Manning   \n",
       "8                             23:00                           New Alexandria   \n",
       "9                             23:00  Northern California Coast (in, highway)   \n",
       "10                            23:00                  14 Island Lake (Canada)   \n",
       "11                   04/00/80 23:00                                 Cohoctah   \n",
       "12                            22:55                       Corby (UK/England)   \n",
       "13                            22:50                     Necochea (Argentina)   \n",
       "14                   O6/03/19 22:44                               Louisville   \n",
       "15                   09/16/01 22:38                           Bonita Springs   \n",
       "16  hudson river = town of wa 22:34                          Washingtonville   \n",
       "17                   01/15/70 22:30               Melbourne (VIC, Australia)   \n",
       "18                   00/00/99 22:30                 Iron Bridge (UK/England)   \n",
       "19                            22:30                             Mesa Arizona   \n",
       "\n",
       "   State         Country      Shape          Duration  \\\n",
       "0     NB          Canada       Oval               NaN   \n",
       "1     NJ             USA       Disk        30 minutes   \n",
       "2     VT             USA     Circle        97 seconds   \n",
       "3     PA             USA      Light         5 minutes   \n",
       "4     CA             USA   Triangle            2 min.   \n",
       "5     CA             USA   Fireball       3-5 seconds   \n",
       "6     NB          Canada     Circle               NaN   \n",
       "7     SC             USA     Sphere         2 minutes   \n",
       "8     PA             USA      Other        15 minutes   \n",
       "9     CA             USA      Cigar          3-5 min.   \n",
       "10    QC          Canada   Fireball         ~2-3 sec.   \n",
       "11    MI             USA    Unknown            15 min   \n",
       "12   NaN  United Kingdom      Cigar     10.to 15.mins   \n",
       "13   NaN       Argentina  Formation        10 seconds   \n",
       "14    KY             USA      Light        30 seconds   \n",
       "15    FL             USA     Circle            2hours   \n",
       "16    NY             USA       Disk  1hour 15 minutes   \n",
       "17    VI       Australia     Circle           45 mins   \n",
       "18   NaN  United Kingdom      Light             2mins   \n",
       "19    AZ             USA      Light        20 minutes   \n",
       "\n",
       "                                              Summary    Posted Images  \n",
       "0   ((HOAX??)) we wher looking .. in the sky in di...   9/24/12    NaN  \n",
       "1   Observed a very bright white saucer (had two l...    5/6/17    NaN  \n",
       "2                         Strange sighting in the sky   5/15/20    NaN  \n",
       "3     4 lights speeding very fast across sky silently   8/16/21    NaN  \n",
       "4   triangle of lights moving slowly through the n...   9/15/05    NaN  \n",
       "5   Neon green, long-tailed fireball meteor-lookin...    7/8/04    NaN  \n",
       "6   I wonder where they are today, and if they are...    6/4/04    NaN  \n",
       "7   The object was metallic in color. Spherical in...   6/25/20    NaN  \n",
       "8                                    Translucent UFO.    5/9/19    NaN  \n",
       "9   We were travelling along the coast of Californ...   10/2/99    NaN  \n",
       "10  A 2-3 second streak of an emerald green laser-...    6/4/04    NaN  \n",
       "11  I Know this was 20 years ago. It still bothers...   11/9/99    NaN  \n",
       "12  I WAS LOCKING UP MY PIGEONS FOR THE NIGHT.BRIG...   2/24/01    NaN  \n",
       "13                   Crafts in the South of the World   8/28/02    NaN  \n",
       "14  Thought it was a plane at first but it was mov...   10/4/19    NaN  \n",
       "15                          THEY WERE IN A Z PATTERN.  10/12/01    NaN  \n",
       "16  It was late at night (I live in Campbell Hall ...   3/16/00    NaN  \n",
       "17  We were sitting outside on a hot night, when o...   1/28/99    NaN  \n",
       "18  3 lights in sky joined together as one then fe...   3/19/02    NaN  \n",
       "19  Two bright lights pulsating. Moved up down sid...   6/20/19    NaN  "
      ]
     },
     "execution_count": 4,
     "metadata": {},
     "output_type": "execute_result"
    }
   ],
   "source": [
    "df = pd.read_csv(\"data/ufo.csv\")\n",
    "df.head(20)"
   ]
  },
  {
   "cell_type": "markdown",
   "id": "f877d782-91e3-439c-a1d1-2f65357e4113",
   "metadata": {},
   "source": [
    "- As we see index 1,2,3,4 must be put in an standard format"
   ]
  },
  {
   "cell_type": "code",
   "execution_count": 3,
   "id": "ef277953-a832-4286-88e9-d9204c623828",
   "metadata": {},
   "outputs": [
    {
     "data": {
      "text/plain": [
       "Index(['Date / Time', 'City', 'State', 'Country', 'Shape', 'Duration',\n",
       "       'Summary', 'Posted', 'Images'],\n",
       "      dtype='object')"
      ]
     },
     "execution_count": 3,
     "metadata": {},
     "output_type": "execute_result"
    }
   ],
   "source": [
    "df.columns"
   ]
  },
  {
   "cell_type": "code",
   "execution_count": 8,
   "id": "d5325426-627a-4e8a-b635-11f95eabd43c",
   "metadata": {},
   "outputs": [
    {
     "name": "stdout",
     "output_type": "stream",
     "text": [
      "<class 'pandas.core.frame.DataFrame'>\n",
      "RangeIndex: 138298 entries, 0 to 138297\n",
      "Data columns (total 9 columns):\n",
      " #   Column       Non-Null Count   Dtype \n",
      "---  ------       --------------   ----- \n",
      " 0   Date / Time  138197 non-null  object\n",
      " 1   City         137909 non-null  object\n",
      " 2   State        128886 non-null  object\n",
      " 3   Country      138075 non-null  object\n",
      " 4   Shape        132096 non-null  object\n",
      " 5   Duration     131537 non-null  object\n",
      " 6   Summary      138227 non-null  object\n",
      " 7   Posted       138296 non-null  object\n",
      " 8   Images       524 non-null     object\n",
      "dtypes: object(9)\n",
      "memory usage: 9.5+ MB\n"
     ]
    }
   ],
   "source": [
    "df.info()"
   ]
  },
  {
   "cell_type": "markdown",
   "id": "f6d56780-dbe5-4aed-bebb-f69e261de6dc",
   "metadata": {},
   "source": [
    "# Data Cleaning"
   ]
  },
  {
   "cell_type": "markdown",
   "id": "261bc801-9f6a-4ec8-bb89-f0e9a452e7c1",
   "metadata": {},
   "source": [
    "#### splitting datetime column"
   ]
  },
  {
   "cell_type": "code",
   "execution_count": 5,
   "id": "fdeca8ba-4208-430f-83d2-c862e8fa10d9",
   "metadata": {},
   "outputs": [
    {
     "name": "stdout",
     "output_type": "stream",
     "text": [
      "0             00:00\n",
      "1          4/ 23:22\n",
      "2    03142020 23:04\n",
      "3       1970s 23:00\n",
      "4             23:00\n",
      "Name: Date / Time, dtype: object\n"
     ]
    }
   ],
   "source": [
    "# print the first few rows of the date column\n",
    "print(df['Date / Time'].head())"
   ]
  },
  {
   "cell_type": "code",
   "execution_count": 8,
   "id": "b4db45e0-aa4d-4e0e-ac1f-55e390efed54",
   "metadata": {},
   "outputs": [
    {
     "name": "stdout",
     "output_type": "stream",
     "text": [
      "object\n"
     ]
    }
   ],
   "source": [
    "# check the data type of our date column\n",
    "print(df['Date / Time'].dtype)"
   ]
  },
  {
   "cell_type": "markdown",
   "id": "b52cd423-de88-4807-8221-bd36515da777",
   "metadata": {},
   "source": [
    "# EDA"
   ]
  },
  {
   "cell_type": "markdown",
   "id": "a0d7d3e9-8a62-4f21-83f8-4bac3c855606",
   "metadata": {},
   "source": [
    "#### what shapes are most common and where "
   ]
  },
  {
   "cell_type": "code",
   "execution_count": 38,
   "id": "cc557dcb-ccda-42b0-b399-cf7bb0cb293c",
   "metadata": {},
   "outputs": [
    {
     "data": {
      "text/plain": [
       "City          Shape \n",
       "Seattle       Light     146\n",
       "Phoenix       Light     144\n",
       "Las Vegas     Light     131\n",
       "Portland      Light     129\n",
       "San Diego     Light     117\n",
       "Tucson        Light      98\n",
       "Los Angeles   Light      93\n",
       "Myrtle Beach  Light      90\n",
       "Springfield   Light      73\n",
       "Orlando       Light      73\n",
       "Miami         Light      72\n",
       "Albuquerque   Light      71\n",
       "Portland      Circle     70\n",
       "Houston       Light      69\n",
       "Las Vegas     Circle     68\n",
       "Name: Shape, dtype: int64"
      ]
     },
     "execution_count": 38,
     "metadata": {},
     "output_type": "execute_result"
    }
   ],
   "source": [
    "shapes_where = df.groupby(['City'])['Shape'].value_counts().sort_values(ascending=False).head(15)\n",
    "shapes_where"
   ]
  },
  {
   "cell_type": "code",
   "execution_count": 53,
   "id": "592363e7-ce8a-41b3-8826-e157af812300",
   "metadata": {},
   "outputs": [
    {
     "data": {
      "image/png": "[encoded data removed]",
      "text/plain": [
       "<Figure size 640x480 with 1 Axes>"
      ]
     },
     "metadata": {},
     "output_type": "display_data"
    }
   ],
   "source": [
    "sns.countplot(y='Shape', data=df)\n",
    "plt.show()"
   ]
  },
  {
   "cell_type": "markdown",
   "id": "608fab65-790b-4814-99bd-49e2812dd4a8",
   "metadata": {},
   "source": [
    "# Feature Engineering"
   ]
  },
  {
   "cell_type": "markdown",
   "id": "fc3e76b3-758a-4b97-8fe3-c40c94b651b6",
   "metadata": {},
   "source": [
    "# Modelling"
   ]
  },
  {
   "cell_type": "markdown",
   "id": "b747f963-e21d-41dc-9312-361ad81434ec",
   "metadata": {},
   "source": [
    "# Communication"
   ]
  }
 ],
 "metadata": {
  "kernelspec": {
   "display_name": "Python 3 (ipykernel)",
   "language": "python",
   "name": "python3"
  },
  "language_info": {
   "codemirror_mode": {
    "name": "ipython",
    "version": 3
   },
   "file_extension": ".py",
   "mimetype": "text/x-python",
   "name": "python",
   "nbconvert_exporter": "python",
   "pygments_lexer": "ipython3",
   "version": "3.10.7"
  }
 },
 "nbformat": 4,
 "nbformat_minor": 5
}
