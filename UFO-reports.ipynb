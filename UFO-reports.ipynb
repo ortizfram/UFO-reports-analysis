{
 "cells": [
  {
   "cell_type": "markdown",
   "id": "a714d386-3810-476c-9283-d4418570c865",
   "metadata": {},
   "source": [
    "**Franco Ortiz** :Data scientist\n",
    "\n",
    "UFO-reports-analysis\n",
    "# Problem Statement\n",
    "### Questions to answer\n",
    "- What time is more frequent to see them?\n",
    "- How long did the experience take?\n",
    "- What shapes are most common and where?\n",
    "- Top words that described that moment (wordcloud)\n",
    "- heat map with quantities and cities for number of sightings"
   ]
  },
  {
   "cell_type": "markdown",
   "id": "56c1994a-b5a5-4322-b596-080093d4d5a2",
   "metadata": {},
   "source": [
    "# Data importing\n",
    "#### modules"
   ]
  },
  {
   "cell_type": "code",
   "execution_count": 1,
   "id": "5b61bfed-f017-4faf-aabe-d908796334c8",
   "metadata": {},
   "outputs": [],
   "source": [
    "import pandas as pd"
   ]
  },
  {
   "cell_type": "code",
   "execution_count": null,
   "id": "bd7f4fbd-102a-4d8d-ab84-ad541323f6a6",
   "metadata": {},
   "outputs": [],
   "source": [
    "df = pd.read_csv(\"data/ufo.csv\")\n",
    "df.head(10)"
   ]
  },
  {
   "cell_type": "markdown",
   "id": "f6d56780-dbe5-4aed-bebb-f69e261de6dc",
   "metadata": {},
   "source": [
    "# Data Cleaning"
   ]
  },
  {
   "cell_type": "markdown",
   "id": "5202eadf-351f-41a3-bddb-58834ac5e2cf",
   "metadata": {},
   "source": [
    "#### date range of timestamps "
   ]
  },
  {
   "cell_type": "code",
   "execution_count": null,
   "id": "695faa0b-aa4e-4d2c-b505-8f7387b54301",
   "metadata": {},
   "outputs": [],
   "source": [
    "print(pd.Timestamp.min)\n",
    "print(pd.Timestamp.max)"
   ]
  },
  {
   "cell_type": "markdown",
   "id": "261bc801-9f6a-4ec8-bb89-f0e9a452e7c1",
   "metadata": {},
   "source": [
    "#### splitting datetime column\n",
    "outside range is NaT value"
   ]
  },
  {
   "cell_type": "code",
   "execution_count": null,
   "id": "479f845c-dc0f-4126-8430-d692f91847fd",
   "metadata": {},
   "outputs": [],
   "source": [
    "df['Date'] = pd.to_datetime(df['Date / Time'], errors = 'coerce').dt.date\n",
    "df['Time'] = pd.to_datetime(df['Date / Time'], errors = 'coerce').dt.time\n",
    "print(df['Date'])\n",
    "print(df['Time'])"
   ]
  },
  {
   "cell_type": "markdown",
   "id": "b52cd423-de88-4807-8221-bd36515da777",
   "metadata": {},
   "source": [
    "# EDA"
   ]
  },
  {
   "cell_type": "markdown",
   "id": "608fab65-790b-4814-99bd-49e2812dd4a8",
   "metadata": {},
   "source": [
    "# Feature Engineering"
   ]
  },
  {
   "cell_type": "markdown",
   "id": "fc3e76b3-758a-4b97-8fe3-c40c94b651b6",
   "metadata": {},
   "source": [
    "# Modelling"
   ]
  },
  {
   "cell_type": "markdown",
   "id": "b747f963-e21d-41dc-9312-361ad81434ec",
   "metadata": {},
   "source": [
    "# Communication"
   ]
  }
 ],
 "metadata": {
  "kernelspec": {
   "display_name": "Python 3 (ipykernel)",
   "language": "python",
   "name": "python3"
  },
  "language_info": {
   "codemirror_mode": {
    "name": "ipython",
    "version": 3
   },
   "file_extension": ".py",
   "mimetype": "text/x-python",
   "name": "python",
   "nbconvert_exporter": "python",
   "pygments_lexer": "ipython3",
   "version": "3.10.7"
  }
 },
 "nbformat": 4,
 "nbformat_minor": 5
}
