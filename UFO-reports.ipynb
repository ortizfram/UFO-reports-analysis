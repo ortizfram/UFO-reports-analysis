{
 "cells": [
  {
   "cell_type": "markdown",
   "id": "a714d386-3810-476c-9283-d4418570c865",
   "metadata": {},
   "source": [
    "**Franco Ortiz** :Data scientist\n",
    "\n",
    "UFO-reports-analysis\n",
    "# Problem Statement\n",
    "### Questions to answer\n",
    "- What time is more frequent to see them?\n",
    "- How long did the experience take?\n",
    "- What shapes are most common and where?\n",
    "- Top words that described that moment (wordcloud)\n",
    "- heat map with quantities and cities for number of sightings (geopandas and foliumn)"
   ]
  },
  {
   "cell_type": "markdown",
   "id": "56c1994a-b5a5-4322-b596-080093d4d5a2",
   "metadata": {},
   "source": [
    "# Data importing\n",
    "#### modules"
   ]
  },
  {
   "cell_type": "code",
   "execution_count": 1,
   "id": "5b61bfed-f017-4faf-aabe-d908796334c8",
   "metadata": {},
   "outputs": [],
   "source": [
    "import pandas as pd\n",
    "import datetime as dt\n",
    "import numpy as np\n",
    "import seaborn as sns\n",
    "import matplotlib.pyplot as plt\n",
    "from dataprep.clean import clean_date\n",
    "import re\n",
    "\n",
    "# set seed for reproducibility\n",
    "np.random.seed(0)"
   ]
  },
  {
   "cell_type": "code",
   "execution_count": 2,
   "id": "bd7f4fbd-102a-4d8d-ab84-ad541323f6a6",
   "metadata": {},
   "outputs": [
    {
     "data": {
      "text/html": [
       "<div>\n",
       "<style scoped>\n",
       "    .dataframe tbody tr th:only-of-type {\n",
       "        vertical-align: middle;\n",
       "    }\n",
       "\n",
       "    .dataframe tbody tr th {\n",
       "        vertical-align: top;\n",
       "    }\n",
       "\n",
       "    .dataframe thead th {\n",
       "        text-align: right;\n",
       "    }\n",
       "</style>\n",
       "<table border=\"1\" class=\"dataframe\">\n",
       "  <thead>\n",
       "    <tr style=\"text-align: right;\">\n",
       "      <th></th>\n",
       "      <th>Date / Time</th>\n",
       "      <th>City</th>\n",
       "      <th>State</th>\n",
       "      <th>Country</th>\n",
       "      <th>Shape</th>\n",
       "      <th>Duration</th>\n",
       "      <th>Summary</th>\n",
       "      <th>Posted</th>\n",
       "      <th>Images</th>\n",
       "    </tr>\n",
       "  </thead>\n",
       "  <tbody>\n",
       "    <tr>\n",
       "      <th>0</th>\n",
       "      <td>00:00</td>\n",
       "      <td>Dieppe (Moncton) (Canada)</td>\n",
       "      <td>NB</td>\n",
       "      <td>Canada</td>\n",
       "      <td>Oval</td>\n",
       "      <td>NaN</td>\n",
       "      <td>((HOAX??)) we wher looking .. in the sky in di...</td>\n",
       "      <td>9/24/12</td>\n",
       "      <td>NaN</td>\n",
       "    </tr>\n",
       "    <tr>\n",
       "      <th>1</th>\n",
       "      <td>4/ 23:22</td>\n",
       "      <td>Atlantic City</td>\n",
       "      <td>NJ</td>\n",
       "      <td>USA</td>\n",
       "      <td>Disk</td>\n",
       "      <td>30 minutes</td>\n",
       "      <td>Observed a very bright white saucer (had two l...</td>\n",
       "      <td>5/6/17</td>\n",
       "      <td>NaN</td>\n",
       "    </tr>\n",
       "    <tr>\n",
       "      <th>2</th>\n",
       "      <td>03142020 23:04</td>\n",
       "      <td>Norwich</td>\n",
       "      <td>VT</td>\n",
       "      <td>USA</td>\n",
       "      <td>Circle</td>\n",
       "      <td>97 seconds</td>\n",
       "      <td>Strange sighting in the sky</td>\n",
       "      <td>5/15/20</td>\n",
       "      <td>NaN</td>\n",
       "    </tr>\n",
       "    <tr>\n",
       "      <th>3</th>\n",
       "      <td>1970s 23:00</td>\n",
       "      <td>Grande Summit</td>\n",
       "      <td>PA</td>\n",
       "      <td>USA</td>\n",
       "      <td>Light</td>\n",
       "      <td>5 minutes</td>\n",
       "      <td>4 lights speeding very fast across sky silently</td>\n",
       "      <td>8/16/21</td>\n",
       "      <td>NaN</td>\n",
       "    </tr>\n",
       "    <tr>\n",
       "      <th>4</th>\n",
       "      <td>23:00</td>\n",
       "      <td>Desolation Wilderness</td>\n",
       "      <td>CA</td>\n",
       "      <td>USA</td>\n",
       "      <td>Triangle</td>\n",
       "      <td>2 min.</td>\n",
       "      <td>triangle of lights moving slowly through the n...</td>\n",
       "      <td>9/15/05</td>\n",
       "      <td>NaN</td>\n",
       "    </tr>\n",
       "    <tr>\n",
       "      <th>5</th>\n",
       "      <td>23:00</td>\n",
       "      <td>Playa del Rey</td>\n",
       "      <td>CA</td>\n",
       "      <td>USA</td>\n",
       "      <td>Fireball</td>\n",
       "      <td>3-5 seconds</td>\n",
       "      <td>Neon green, long-tailed fireball meteor-lookin...</td>\n",
       "      <td>7/8/04</td>\n",
       "      <td>NaN</td>\n",
       "    </tr>\n",
       "    <tr>\n",
       "      <th>6</th>\n",
       "      <td>23:00</td>\n",
       "      <td>Milltown (Canada)</td>\n",
       "      <td>NB</td>\n",
       "      <td>Canada</td>\n",
       "      <td>Circle</td>\n",
       "      <td>NaN</td>\n",
       "      <td>I wonder where they are today, and if they are...</td>\n",
       "      <td>6/4/04</td>\n",
       "      <td>NaN</td>\n",
       "    </tr>\n",
       "    <tr>\n",
       "      <th>7</th>\n",
       "      <td>23:00</td>\n",
       "      <td>Manning</td>\n",
       "      <td>SC</td>\n",
       "      <td>USA</td>\n",
       "      <td>Sphere</td>\n",
       "      <td>2 minutes</td>\n",
       "      <td>The object was metallic in color. Spherical in...</td>\n",
       "      <td>6/25/20</td>\n",
       "      <td>NaN</td>\n",
       "    </tr>\n",
       "    <tr>\n",
       "      <th>8</th>\n",
       "      <td>23:00</td>\n",
       "      <td>New Alexandria</td>\n",
       "      <td>PA</td>\n",
       "      <td>USA</td>\n",
       "      <td>Other</td>\n",
       "      <td>15 minutes</td>\n",
       "      <td>Translucent UFO.</td>\n",
       "      <td>5/9/19</td>\n",
       "      <td>NaN</td>\n",
       "    </tr>\n",
       "    <tr>\n",
       "      <th>9</th>\n",
       "      <td>23:00</td>\n",
       "      <td>Northern California Coast (in, highway)</td>\n",
       "      <td>CA</td>\n",
       "      <td>USA</td>\n",
       "      <td>Cigar</td>\n",
       "      <td>3-5 min.</td>\n",
       "      <td>We were travelling along the coast of Californ...</td>\n",
       "      <td>10/2/99</td>\n",
       "      <td>NaN</td>\n",
       "    </tr>\n",
       "    <tr>\n",
       "      <th>10</th>\n",
       "      <td>23:00</td>\n",
       "      <td>14 Island Lake (Canada)</td>\n",
       "      <td>QC</td>\n",
       "      <td>Canada</td>\n",
       "      <td>Fireball</td>\n",
       "      <td>~2-3 sec.</td>\n",
       "      <td>A 2-3 second streak of an emerald green laser-...</td>\n",
       "      <td>6/4/04</td>\n",
       "      <td>NaN</td>\n",
       "    </tr>\n",
       "    <tr>\n",
       "      <th>11</th>\n",
       "      <td>04/00/80 23:00</td>\n",
       "      <td>Cohoctah</td>\n",
       "      <td>MI</td>\n",
       "      <td>USA</td>\n",
       "      <td>Unknown</td>\n",
       "      <td>15 min</td>\n",
       "      <td>I Know this was 20 years ago. It still bothers...</td>\n",
       "      <td>11/9/99</td>\n",
       "      <td>NaN</td>\n",
       "    </tr>\n",
       "    <tr>\n",
       "      <th>12</th>\n",
       "      <td>22:55</td>\n",
       "      <td>Corby (UK/England)</td>\n",
       "      <td>NaN</td>\n",
       "      <td>United Kingdom</td>\n",
       "      <td>Cigar</td>\n",
       "      <td>10.to 15.mins</td>\n",
       "      <td>I WAS LOCKING UP MY PIGEONS FOR THE NIGHT.BRIG...</td>\n",
       "      <td>2/24/01</td>\n",
       "      <td>NaN</td>\n",
       "    </tr>\n",
       "    <tr>\n",
       "      <th>13</th>\n",
       "      <td>22:50</td>\n",
       "      <td>Necochea (Argentina)</td>\n",
       "      <td>NaN</td>\n",
       "      <td>Argentina</td>\n",
       "      <td>Formation</td>\n",
       "      <td>10 seconds</td>\n",
       "      <td>Crafts in the South of the World</td>\n",
       "      <td>8/28/02</td>\n",
       "      <td>NaN</td>\n",
       "    </tr>\n",
       "    <tr>\n",
       "      <th>14</th>\n",
       "      <td>O6/03/19 22:44</td>\n",
       "      <td>Louisville</td>\n",
       "      <td>KY</td>\n",
       "      <td>USA</td>\n",
       "      <td>Light</td>\n",
       "      <td>30 seconds</td>\n",
       "      <td>Thought it was a plane at first but it was mov...</td>\n",
       "      <td>10/4/19</td>\n",
       "      <td>NaN</td>\n",
       "    </tr>\n",
       "    <tr>\n",
       "      <th>15</th>\n",
       "      <td>09/16/01 22:38</td>\n",
       "      <td>Bonita Springs</td>\n",
       "      <td>FL</td>\n",
       "      <td>USA</td>\n",
       "      <td>Circle</td>\n",
       "      <td>2hours</td>\n",
       "      <td>THEY WERE IN A Z PATTERN.</td>\n",
       "      <td>10/12/01</td>\n",
       "      <td>NaN</td>\n",
       "    </tr>\n",
       "    <tr>\n",
       "      <th>16</th>\n",
       "      <td>hudson river = town of wa 22:34</td>\n",
       "      <td>Washingtonville</td>\n",
       "      <td>NY</td>\n",
       "      <td>USA</td>\n",
       "      <td>Disk</td>\n",
       "      <td>1hour 15 minutes</td>\n",
       "      <td>It was late at night (I live in Campbell Hall ...</td>\n",
       "      <td>3/16/00</td>\n",
       "      <td>NaN</td>\n",
       "    </tr>\n",
       "    <tr>\n",
       "      <th>17</th>\n",
       "      <td>01/15/70 22:30</td>\n",
       "      <td>Melbourne (VIC, Australia)</td>\n",
       "      <td>VI</td>\n",
       "      <td>Australia</td>\n",
       "      <td>Circle</td>\n",
       "      <td>45 mins</td>\n",
       "      <td>We were sitting outside on a hot night, when o...</td>\n",
       "      <td>1/28/99</td>\n",
       "      <td>NaN</td>\n",
       "    </tr>\n",
       "    <tr>\n",
       "      <th>18</th>\n",
       "      <td>00/00/99 22:30</td>\n",
       "      <td>Iron Bridge (UK/England)</td>\n",
       "      <td>NaN</td>\n",
       "      <td>United Kingdom</td>\n",
       "      <td>Light</td>\n",
       "      <td>2mins</td>\n",
       "      <td>3 lights in sky joined together as one then fe...</td>\n",
       "      <td>3/19/02</td>\n",
       "      <td>NaN</td>\n",
       "    </tr>\n",
       "    <tr>\n",
       "      <th>19</th>\n",
       "      <td>22:30</td>\n",
       "      <td>Mesa Arizona</td>\n",
       "      <td>AZ</td>\n",
       "      <td>USA</td>\n",
       "      <td>Light</td>\n",
       "      <td>20 minutes</td>\n",
       "      <td>Two bright lights pulsating. Moved up down sid...</td>\n",
       "      <td>6/20/19</td>\n",
       "      <td>NaN</td>\n",
       "    </tr>\n",
       "  </tbody>\n",
       "</table>\n",
       "</div>"
      ],
      "text/plain": [
       "                        Date / Time                                     City  \\\n",
       "0                             00:00                Dieppe (Moncton) (Canada)   \n",
       "1                          4/ 23:22                            Atlantic City   \n",
       "2                    03142020 23:04                                  Norwich   \n",
       "3                       1970s 23:00                            Grande Summit   \n",
       "4                             23:00                    Desolation Wilderness   \n",
       "5                             23:00                            Playa del Rey   \n",
       "6                             23:00                        Milltown (Canada)   \n",
       "7                             23:00                                  Manning   \n",
       "8                             23:00                           New Alexandria   \n",
       "9                             23:00  Northern California Coast (in, highway)   \n",
       "10                            23:00                  14 Island Lake (Canada)   \n",
       "11                   04/00/80 23:00                                 Cohoctah   \n",
       "12                            22:55                       Corby (UK/England)   \n",
       "13                            22:50                     Necochea (Argentina)   \n",
       "14                   O6/03/19 22:44                               Louisville   \n",
       "15                   09/16/01 22:38                           Bonita Springs   \n",
       "16  hudson river = town of wa 22:34                          Washingtonville   \n",
       "17                   01/15/70 22:30               Melbourne (VIC, Australia)   \n",
       "18                   00/00/99 22:30                 Iron Bridge (UK/England)   \n",
       "19                            22:30                             Mesa Arizona   \n",
       "\n",
       "   State         Country      Shape          Duration  \\\n",
       "0     NB          Canada       Oval               NaN   \n",
       "1     NJ             USA       Disk        30 minutes   \n",
       "2     VT             USA     Circle        97 seconds   \n",
       "3     PA             USA      Light         5 minutes   \n",
       "4     CA             USA   Triangle            2 min.   \n",
       "5     CA             USA   Fireball       3-5 seconds   \n",
       "6     NB          Canada     Circle               NaN   \n",
       "7     SC             USA     Sphere         2 minutes   \n",
       "8     PA             USA      Other        15 minutes   \n",
       "9     CA             USA      Cigar          3-5 min.   \n",
       "10    QC          Canada   Fireball         ~2-3 sec.   \n",
       "11    MI             USA    Unknown            15 min   \n",
       "12   NaN  United Kingdom      Cigar     10.to 15.mins   \n",
       "13   NaN       Argentina  Formation        10 seconds   \n",
       "14    KY             USA      Light        30 seconds   \n",
       "15    FL             USA     Circle            2hours   \n",
       "16    NY             USA       Disk  1hour 15 minutes   \n",
       "17    VI       Australia     Circle           45 mins   \n",
       "18   NaN  United Kingdom      Light             2mins   \n",
       "19    AZ             USA      Light        20 minutes   \n",
       "\n",
       "                                              Summary    Posted Images  \n",
       "0   ((HOAX??)) we wher looking .. in the sky in di...   9/24/12    NaN  \n",
       "1   Observed a very bright white saucer (had two l...    5/6/17    NaN  \n",
       "2                         Strange sighting in the sky   5/15/20    NaN  \n",
       "3     4 lights speeding very fast across sky silently   8/16/21    NaN  \n",
       "4   triangle of lights moving slowly through the n...   9/15/05    NaN  \n",
       "5   Neon green, long-tailed fireball meteor-lookin...    7/8/04    NaN  \n",
       "6   I wonder where they are today, and if they are...    6/4/04    NaN  \n",
       "7   The object was metallic in color. Spherical in...   6/25/20    NaN  \n",
       "8                                    Translucent UFO.    5/9/19    NaN  \n",
       "9   We were travelling along the coast of Californ...   10/2/99    NaN  \n",
       "10  A 2-3 second streak of an emerald green laser-...    6/4/04    NaN  \n",
       "11  I Know this was 20 years ago. It still bothers...   11/9/99    NaN  \n",
       "12  I WAS LOCKING UP MY PIGEONS FOR THE NIGHT.BRIG...   2/24/01    NaN  \n",
       "13                   Crafts in the South of the World   8/28/02    NaN  \n",
       "14  Thought it was a plane at first but it was mov...   10/4/19    NaN  \n",
       "15                          THEY WERE IN A Z PATTERN.  10/12/01    NaN  \n",
       "16  It was late at night (I live in Campbell Hall ...   3/16/00    NaN  \n",
       "17  We were sitting outside on a hot night, when o...   1/28/99    NaN  \n",
       "18  3 lights in sky joined together as one then fe...   3/19/02    NaN  \n",
       "19  Two bright lights pulsating. Moved up down sid...   6/20/19    NaN  "
      ]
     },
     "execution_count": 2,
     "metadata": {},
     "output_type": "execute_result"
    }
   ],
   "source": [
    "df = pd.read_csv(\"data/ufo.csv\", keep_default_na=True)\n",
    "df.head(20)"
   ]
  },
  {
   "cell_type": "markdown",
   "id": "f877d782-91e3-439c-a1d1-2f65357e4113",
   "metadata": {},
   "source": [
    "- ***As we see index 1,2,3,4 must be put in an standard format***"
   ]
  },
  {
   "cell_type": "code",
   "execution_count": 3,
   "id": "ef277953-a832-4286-88e9-d9204c623828",
   "metadata": {},
   "outputs": [
    {
     "data": {
      "text/plain": [
       "Index(['Date / Time', 'City', 'State', 'Country', 'Shape', 'Duration',\n",
       "       'Summary', 'Posted', 'Images'],\n",
       "      dtype='object')"
      ]
     },
     "execution_count": 3,
     "metadata": {},
     "output_type": "execute_result"
    }
   ],
   "source": [
    "df.columns"
   ]
  },
  {
   "cell_type": "code",
   "execution_count": 4,
   "id": "d5325426-627a-4e8a-b635-11f95eabd43c",
   "metadata": {},
   "outputs": [
    {
     "name": "stdout",
     "output_type": "stream",
     "text": [
      "<class 'pandas.core.frame.DataFrame'>\n",
      "RangeIndex: 138298 entries, 0 to 138297\n",
      "Data columns (total 9 columns):\n",
      " #   Column       Non-Null Count   Dtype \n",
      "---  ------       --------------   ----- \n",
      " 0   Date / Time  138197 non-null  object\n",
      " 1   City         137909 non-null  object\n",
      " 2   State        128886 non-null  object\n",
      " 3   Country      138075 non-null  object\n",
      " 4   Shape        132096 non-null  object\n",
      " 5   Duration     131537 non-null  object\n",
      " 6   Summary      138227 non-null  object\n",
      " 7   Posted       138296 non-null  object\n",
      " 8   Images       524 non-null     object\n",
      "dtypes: object(9)\n",
      "memory usage: 9.5+ MB\n"
     ]
    }
   ],
   "source": [
    "df.info()"
   ]
  },
  {
   "cell_type": "markdown",
   "id": "f6d56780-dbe5-4aed-bebb-f69e261de6dc",
   "metadata": {},
   "source": [
    "# Data Cleaning"
   ]
  },
  {
   "cell_type": "code",
   "execution_count": 5,
   "id": "c28571f4-e458-44e7-b066-af7f658568ea",
   "metadata": {},
   "outputs": [
    {
     "data": {
      "text/plain": [
       "0                  00:00\n",
       "1               4/ 23:22\n",
       "2         03142020 23:04\n",
       "3            1970s 23:00\n",
       "4                  23:00\n",
       "               ...      \n",
       "138293      5/1/22 06:00\n",
       "138294      5/1/22 04:41\n",
       "138295      5/1/22 04:25\n",
       "138296      5/1/22 04:00\n",
       "138297      5/1/22 02:37\n",
       "Name: Date / Time, Length: 138298, dtype: object"
      ]
     },
     "execution_count": 5,
     "metadata": {},
     "output_type": "execute_result"
    }
   ],
   "source": [
    "df['Date / Time']"
   ]
  },
  {
   "cell_type": "markdown",
   "id": "261bc801-9f6a-4ec8-bb89-f0e9a452e7c1",
   "metadata": {},
   "source": [
    "#### splitting datetime column"
   ]
  },
  {
   "cell_type": "code",
   "execution_count": 6,
   "id": "b07c09ad-742a-4c07-8647-ee895b3501d1",
   "metadata": {},
   "outputs": [],
   "source": [
    "# Create a copy of the dataframe\n",
    "df_clean = df.copy()\n",
    "\n",
    "# Try to convert the 'Date / Time' column to datetime format\n",
    "df_clean['Date / Time'] = pd.to_datetime(df_clean['Date / Time'], errors='coerce')\n",
    "\n",
    "# Check for invalid dates and handle them\n",
    "df_clean = df_clean[pd.notnull(df_clean['Date / Time'])]\n",
    "\n",
    "# Extract the date and time separately into separate columns\n",
    "df_clean['Date'] = df_clean['Date / Time'].dt.date\n",
    "df_clean['Time'] = df_clean['Date / Time'].dt.time\n",
    "\n",
    "# Drop the original 'Date / Time' column\n",
    "df_clean.drop(columns=['Date / Time'], inplace=True)"
   ]
  },
  {
   "cell_type": "markdown",
   "id": "57069887-55cc-401a-a2d3-aa01df2b3abb",
   "metadata": {},
   "source": [
    "#### column values to lowercase"
   ]
  },
  {
   "cell_type": "code",
   "execution_count": 7,
   "id": "59d07c43-f265-45f5-a6f2-193d27ceea7a",
   "metadata": {},
   "outputs": [
    {
     "data": {
      "text/html": [
       "<div>\n",
       "<style scoped>\n",
       "    .dataframe tbody tr th:only-of-type {\n",
       "        vertical-align: middle;\n",
       "    }\n",
       "\n",
       "    .dataframe tbody tr th {\n",
       "        vertical-align: top;\n",
       "    }\n",
       "\n",
       "    .dataframe thead th {\n",
       "        text-align: right;\n",
       "    }\n",
       "</style>\n",
       "<table border=\"1\" class=\"dataframe\">\n",
       "  <thead>\n",
       "    <tr style=\"text-align: right;\">\n",
       "      <th></th>\n",
       "      <th>Date / Time</th>\n",
       "      <th>City</th>\n",
       "      <th>State</th>\n",
       "      <th>Country</th>\n",
       "      <th>Shape</th>\n",
       "      <th>Duration</th>\n",
       "      <th>Summary</th>\n",
       "      <th>Posted</th>\n",
       "      <th>Images</th>\n",
       "    </tr>\n",
       "  </thead>\n",
       "  <tbody>\n",
       "    <tr>\n",
       "      <th>0</th>\n",
       "      <td>00:00</td>\n",
       "      <td>dieppe (moncton) (canada)</td>\n",
       "      <td>nb</td>\n",
       "      <td>canada</td>\n",
       "      <td>oval</td>\n",
       "      <td>NaN</td>\n",
       "      <td>((hoax??)) we wher looking .. in the sky in di...</td>\n",
       "      <td>9/24/12</td>\n",
       "      <td>NaN</td>\n",
       "    </tr>\n",
       "    <tr>\n",
       "      <th>1</th>\n",
       "      <td>4/ 23:22</td>\n",
       "      <td>atlantic city</td>\n",
       "      <td>nj</td>\n",
       "      <td>usa</td>\n",
       "      <td>disk</td>\n",
       "      <td>30 minutes</td>\n",
       "      <td>observed a very bright white saucer (had two l...</td>\n",
       "      <td>5/6/17</td>\n",
       "      <td>NaN</td>\n",
       "    </tr>\n",
       "    <tr>\n",
       "      <th>2</th>\n",
       "      <td>03142020 23:04</td>\n",
       "      <td>norwich</td>\n",
       "      <td>vt</td>\n",
       "      <td>usa</td>\n",
       "      <td>circle</td>\n",
       "      <td>97 seconds</td>\n",
       "      <td>strange sighting in the sky</td>\n",
       "      <td>5/15/20</td>\n",
       "      <td>NaN</td>\n",
       "    </tr>\n",
       "    <tr>\n",
       "      <th>3</th>\n",
       "      <td>1970s 23:00</td>\n",
       "      <td>grande summit</td>\n",
       "      <td>pa</td>\n",
       "      <td>usa</td>\n",
       "      <td>light</td>\n",
       "      <td>5 minutes</td>\n",
       "      <td>4 lights speeding very fast across sky silently</td>\n",
       "      <td>8/16/21</td>\n",
       "      <td>NaN</td>\n",
       "    </tr>\n",
       "    <tr>\n",
       "      <th>4</th>\n",
       "      <td>23:00</td>\n",
       "      <td>desolation wilderness</td>\n",
       "      <td>ca</td>\n",
       "      <td>usa</td>\n",
       "      <td>triangle</td>\n",
       "      <td>2 min.</td>\n",
       "      <td>triangle of lights moving slowly through the n...</td>\n",
       "      <td>9/15/05</td>\n",
       "      <td>NaN</td>\n",
       "    </tr>\n",
       "    <tr>\n",
       "      <th>5</th>\n",
       "      <td>23:00</td>\n",
       "      <td>playa del rey</td>\n",
       "      <td>ca</td>\n",
       "      <td>usa</td>\n",
       "      <td>fireball</td>\n",
       "      <td>3-5 seconds</td>\n",
       "      <td>neon green, long-tailed fireball meteor-lookin...</td>\n",
       "      <td>7/8/04</td>\n",
       "      <td>NaN</td>\n",
       "    </tr>\n",
       "    <tr>\n",
       "      <th>6</th>\n",
       "      <td>23:00</td>\n",
       "      <td>milltown (canada)</td>\n",
       "      <td>nb</td>\n",
       "      <td>canada</td>\n",
       "      <td>circle</td>\n",
       "      <td>NaN</td>\n",
       "      <td>i wonder where they are today, and if they are...</td>\n",
       "      <td>6/4/04</td>\n",
       "      <td>NaN</td>\n",
       "    </tr>\n",
       "    <tr>\n",
       "      <th>7</th>\n",
       "      <td>23:00</td>\n",
       "      <td>manning</td>\n",
       "      <td>sc</td>\n",
       "      <td>usa</td>\n",
       "      <td>sphere</td>\n",
       "      <td>2 minutes</td>\n",
       "      <td>the object was metallic in color. spherical in...</td>\n",
       "      <td>6/25/20</td>\n",
       "      <td>NaN</td>\n",
       "    </tr>\n",
       "    <tr>\n",
       "      <th>8</th>\n",
       "      <td>23:00</td>\n",
       "      <td>new alexandria</td>\n",
       "      <td>pa</td>\n",
       "      <td>usa</td>\n",
       "      <td>other</td>\n",
       "      <td>15 minutes</td>\n",
       "      <td>translucent ufo.</td>\n",
       "      <td>5/9/19</td>\n",
       "      <td>NaN</td>\n",
       "    </tr>\n",
       "    <tr>\n",
       "      <th>9</th>\n",
       "      <td>23:00</td>\n",
       "      <td>northern california coast (in, highway)</td>\n",
       "      <td>ca</td>\n",
       "      <td>usa</td>\n",
       "      <td>cigar</td>\n",
       "      <td>3-5 min.</td>\n",
       "      <td>we were travelling along the coast of californ...</td>\n",
       "      <td>10/2/99</td>\n",
       "      <td>NaN</td>\n",
       "    </tr>\n",
       "  </tbody>\n",
       "</table>\n",
       "</div>"
      ],
      "text/plain": [
       "      Date / Time                                     City State Country  \\\n",
       "0           00:00                dieppe (moncton) (canada)    nb  canada   \n",
       "1        4/ 23:22                            atlantic city    nj     usa   \n",
       "2  03142020 23:04                                  norwich    vt     usa   \n",
       "3     1970s 23:00                            grande summit    pa     usa   \n",
       "4           23:00                    desolation wilderness    ca     usa   \n",
       "5           23:00                            playa del rey    ca     usa   \n",
       "6           23:00                        milltown (canada)    nb  canada   \n",
       "7           23:00                                  manning    sc     usa   \n",
       "8           23:00                           new alexandria    pa     usa   \n",
       "9           23:00  northern california coast (in, highway)    ca     usa   \n",
       "\n",
       "      Shape     Duration                                            Summary  \\\n",
       "0      oval          NaN  ((hoax??)) we wher looking .. in the sky in di...   \n",
       "1      disk   30 minutes  observed a very bright white saucer (had two l...   \n",
       "2    circle   97 seconds                        strange sighting in the sky   \n",
       "3     light    5 minutes    4 lights speeding very fast across sky silently   \n",
       "4  triangle       2 min.  triangle of lights moving slowly through the n...   \n",
       "5  fireball  3-5 seconds  neon green, long-tailed fireball meteor-lookin...   \n",
       "6    circle          NaN  i wonder where they are today, and if they are...   \n",
       "7    sphere    2 minutes  the object was metallic in color. spherical in...   \n",
       "8     other   15 minutes                                   translucent ufo.   \n",
       "9     cigar     3-5 min.  we were travelling along the coast of californ...   \n",
       "\n",
       "    Posted Images  \n",
       "0  9/24/12    NaN  \n",
       "1   5/6/17    NaN  \n",
       "2  5/15/20    NaN  \n",
       "3  8/16/21    NaN  \n",
       "4  9/15/05    NaN  \n",
       "5   7/8/04    NaN  \n",
       "6   6/4/04    NaN  \n",
       "7  6/25/20    NaN  \n",
       "8   5/9/19    NaN  \n",
       "9  10/2/99    NaN  "
      ]
     },
     "execution_count": 7,
     "metadata": {},
     "output_type": "execute_result"
    }
   ],
   "source": [
    "for column in df.columns:\n",
    "    if df[column].dtype == 'object':\n",
    "        df[column] = df[column].str.lower()\n",
    "df.head(10)"
   ]
  },
  {
   "cell_type": "markdown",
   "id": "3ada1063-0f78-4105-86b9-4d1efa4dffe8",
   "metadata": {},
   "source": [
    "#### cleaning Summary column"
   ]
  },
  {
   "cell_type": "code",
   "execution_count": 8,
   "id": "88aa059e-8291-4e56-b65a-0a6865dfe10e",
   "metadata": {},
   "outputs": [
    {
     "data": {
      "text/plain": [
       "0         [hoax, we, wher, looking, in, the, sky, in, di...\n",
       "1         [observed, a, very, bright, white, saucer, had...\n",
       "2                         [strange, sighting, in, the, sky]\n",
       "3         [lights, speeding, very, fast, across, sky, si...\n",
       "4         [triangle, of, lights, moving, slowly, through...\n",
       "                                ...                        \n",
       "138293    [two, lights, shaped, like, dots, flying, abov...\n",
       "138294    [red, dots, with, a, white, blur, glow, surrou...\n",
       "138295    [two, golden, orbs, movin, slowly, one, a, bit...\n",
       "138296    [object, observed, flying, southwest, to, nort...\n",
       "138297    [objects, off, flight, path, rotating, most, l...\n",
       "Name: words, Length: 138298, dtype: object"
      ]
     },
     "execution_count": 8,
     "metadata": {},
     "output_type": "execute_result"
    }
   ],
   "source": [
    "# return only words if them are str, if not '', using regular expression\n",
    "# (r'\\b\\w+\\b', x) words and digits\n",
    "df['words'] = df['Summary'].apply(lambda x: re.findall(r'[^\\d\\W]+', x) if isinstance(x, str) else [])\n",
    "df['words']"
   ]
  },
  {
   "cell_type": "markdown",
   "id": "75f4a8ea-5a64-4d6e-8e75-863a3d1af43d",
   "metadata": {},
   "source": [
    "#### cleaning Duration column"
   ]
  },
  {
   "cell_type": "code",
   "execution_count": 9,
   "id": "db7ad157-9f57-4cd5-9581-faf508b77507",
   "metadata": {},
   "outputs": [
    {
     "data": {
      "text/plain": [
       "0       0\n",
       "1    1800\n",
       "2    5820\n",
       "3     300\n",
       "4     120\n",
       "5     180\n",
       "6       0\n",
       "7     120\n",
       "8     900\n",
       "9     180\n",
       "Name: Duration, dtype: int32"
      ]
     },
     "execution_count": 9,
     "metadata": {},
     "output_type": "execute_result"
    }
   ],
   "source": [
    "df['Duration'] = df['Duration'].astype(str)\n",
    "df['Duration'] = df['Duration'].str.extract(r'(\\d+)').astype(float)\n",
    "df['Duration'] = df['Duration'].fillna(0)\n",
    "df['Duration'] = df['Duration'].apply(lambda x: x * 60 if x < 100 else x)\n",
    "df['Duration'] = df['Duration'].astype(int)\n",
    "df['Duration'].head(10)"
   ]
  },
  {
   "cell_type": "markdown",
   "id": "aabc933c-0a6f-42ff-b78f-9952a2024f55",
   "metadata": {},
   "source": [
    "#### removing unuseful chars in city state country"
   ]
  },
  {
   "cell_type": "code",
   "execution_count": 17,
   "id": "a3dad2c8-ede0-4818-9c9d-fd0ede642fcd",
   "metadata": {},
   "outputs": [],
   "source": [
    "df['Location'] = df['City'] + ', ' + df['State'] + ', ' + df['Country']"
   ]
  },
  {
   "cell_type": "code",
   "execution_count": 19,
   "id": "3afae087-dfd6-42f8-a532-829b92ccfff6",
   "metadata": {},
   "outputs": [
    {
     "data": {
      "text/plain": [
       "0                 [dieppe, moncton, canada, nb, canada]\n",
       "1                             [atlantic, city, nj, usa]\n",
       "2                                    [norwich, vt, usa]\n",
       "3                             [grande, summit, pa, usa]\n",
       "4                     [desolation, wilderness, ca, usa]\n",
       "5                            [playa, del, rey, ca, usa]\n",
       "6                        [milltown, canada, nb, canada]\n",
       "7                                    [manning, sc, usa]\n",
       "8                            [new, alexandria, pa, usa]\n",
       "9     [northern, california, coast, in, highway, ca,...\n",
       "10                   [island, lake, canada, qc, canada]\n",
       "Name: Location_Info, dtype: object"
      ]
     },
     "execution_count": 19,
     "metadata": {},
     "output_type": "execute_result"
    }
   ],
   "source": [
    "df['Location_Info'] = df['Location'].apply(lambda x: [word for word in re.findall(r'(\\w+)', x) if not word.isdigit()])\n",
    "df['Location_Info'].head(11)"
   ]
  },
  {
   "cell_type": "markdown",
   "id": "b52cd423-de88-4807-8221-bd36515da777",
   "metadata": {},
   "source": [
    "# EDA"
   ]
  },
  {
   "cell_type": "markdown",
   "id": "a0d7d3e9-8a62-4f21-83f8-4bac3c855606",
   "metadata": {},
   "source": [
    "### what shapes are most common and where "
   ]
  },
  {
   "cell_type": "code",
   "execution_count": null,
   "id": "592363e7-ce8a-41b3-8826-e157af812300",
   "metadata": {},
   "outputs": [],
   "source": [
    "sns.countplot(y ='Shape', \n",
    "              data = df,\n",
    "              color='limegreen',\n",
    "              order = df['Shape'].value_counts().index)\n",
    "plt.show()"
   ]
  },
  {
   "cell_type": "code",
   "execution_count": null,
   "id": "cc557dcb-ccda-42b0-b399-cf7bb0cb293c",
   "metadata": {},
   "outputs": [],
   "source": [
    "# Top 15 places\n",
    "shapes_where = df.groupby(['City'])['Shape'].value_counts().sort_values(ascending=False).head(15)\n",
    "shapes_where"
   ]
  },
  {
   "cell_type": "markdown",
   "id": "f5f2afad-9456-4a90-8b74-d61ae4568fc6",
   "metadata": {},
   "source": [
    "- ***Seems like most common shape is 'light-shaped', followe by circle and triangle. The top 3 places they are seen is in Seattle, Phoenix, Las Vegas***"
   ]
  },
  {
   "cell_type": "markdown",
   "id": "c3830a7a-0720-449d-bec7-ccd6e89f043f",
   "metadata": {},
   "source": [
    "### Most used words in description\n",
    "Text Mining with NLTK, and frecuency distribution"
   ]
  },
  {
   "cell_type": "code",
   "execution_count": null,
   "id": "6a2ca409-d900-4af9-b6e6-594541b928ce",
   "metadata": {},
   "outputs": [],
   "source": [
    "from wordcloud import WordCloud, STOPWORDS, ImageColorGenerator\n",
    "import PIL.Image"
   ]
  },
  {
   "cell_type": "code",
   "execution_count": null,
   "id": "1754a720-369e-4cd4-a7c3-f9170956593f",
   "metadata": {},
   "outputs": [],
   "source": [
    "# for WordCloud.generate() method should be a single string\n",
    "words_string = ' '.join(df['words'].str.join(' '))"
   ]
  },
  {
   "cell_type": "code",
   "execution_count": null,
   "id": "3abae3bb-a3cf-4292-9547-187505d64fe0",
   "metadata": {},
   "outputs": [],
   "source": [
    "wc = WordCloud(background_color='white', max_font_size=40)\n",
    "wc.generate(words_string)"
   ]
  },
  {
   "cell_type": "code",
   "execution_count": null,
   "id": "f9453861-174d-4f2d-9937-e4f8920f6759",
   "metadata": {},
   "outputs": [],
   "source": [
    "personalized_stopwords = [\"nuforc\", \"one\", \"two\", \"three\", \"see\", \"saw\", \"seen\", \"looked\", \"light\", \"white light\", \"red light\"]"
   ]
  },
  {
   "cell_type": "code",
   "execution_count": null,
   "id": "7adae324-dbde-4c32-a75a-a927d2d682ca",
   "metadata": {},
   "outputs": [],
   "source": [
    "mask = np.array(PIL.Image.open(\"img/ufo.jpg\"))\n",
    "\n",
    "wc = WordCloud(stopwords = STOPWORDS.union(set(personalized_stopwords)),\n",
    "               mask = mask,\n",
    "               background_color = \"white\",\n",
    "               contour_color = \"black\",\n",
    "               contour_width = 0.9,\n",
    "               min_font_size=5).generate(words_string)\n",
    "\n",
    "plt.imshow(wc.to_array(), interpolation='bilinear')\n",
    "plt.axis(\"off\")\n",
    "plt.show()"
   ]
  },
  {
   "cell_type": "markdown",
   "id": "bbd5eb65-4e3a-4ebd-8558-0589bad64a60",
   "metadata": {},
   "source": [
    "- ***As we can see most frequent words are :*** \n",
    "        ***Sky, Object, bright light, star, hovering, sound, ufo, night sky***"
   ]
  },
  {
   "cell_type": "markdown",
   "id": "6e64e0d7-c9b8-47b2-9cd9-96b20f7dca47",
   "metadata": {},
   "source": [
    "#### What time is most frequent to see them?"
   ]
  },
  {
   "cell_type": "code",
   "execution_count": null,
   "id": "4dd77ffd-4ffd-4248-8551-e4341afb0845",
   "metadata": {},
   "outputs": [],
   "source": [
    "top_15_times = df_clean['Time'].value_counts().sort_values(ascending=False).head(15)"
   ]
  },
  {
   "cell_type": "code",
   "execution_count": null,
   "id": "0a35e2b4-8a3f-4434-b7f2-83d25fe823df",
   "metadata": {},
   "outputs": [],
   "source": [
    "top_15_times.plot(kind='bar',figsize=(7, 3),color='limegreen')\n",
    "\n",
    "plt.xlabel('Time')\n",
    "plt.ylabel('Counts')\n",
    "plt.title('Top 15 Time with highest counts')\n",
    "plt.xticks(rotation=50)\n",
    "\n",
    "plt.show()"
   ]
  },
  {
   "cell_type": "markdown",
   "id": "9e9a6f63-bd05-4fe8-ac1c-77f37c52fb1e",
   "metadata": {},
   "source": [
    "- ***most frequent hours are from 21 to 23 hs***"
   ]
  },
  {
   "cell_type": "markdown",
   "id": "fe14ecd2-498c-49c7-b72e-e75e387ea0fe",
   "metadata": {},
   "source": [
    "#### How long did the experience take?"
   ]
  },
  {
   "cell_type": "code",
   "execution_count": null,
   "id": "a7e4ebe4-a59a-462b-9ee5-918c1c17aaf9",
   "metadata": {},
   "outputs": [],
   "source": [
    "df.head()"
   ]
  },
  {
   "cell_type": "code",
   "execution_count": null,
   "id": "d1ee4bb3-5cfa-4ae9-8dcf-f01fc31871f5",
   "metadata": {},
   "outputs": [],
   "source": [
    "#Count the occurrences of each value in the Duration column\n",
    "sorted_duration = df.sort_values(by='Duration')\n",
    "value_counts = sorted_duration['Duration'].value_counts()\n",
    "\n",
    "#Create the violin plot\n",
    "value_counts.plot(kind='bar',figsize=(7, 3),\n",
    "                 color='limegreen')\n",
    "plt.xlim(0, 15)\n",
    "\n",
    "#Add a title and axis labels\n",
    "plt.title(\"Distribution of UFO Sighting Durations\")\n",
    "plt.xlabel(\"Duration (in minutes)\")\n",
    "plt.ylabel(\"Count\")\n",
    "plt.xticks(rotation=50)\n",
    "\n",
    "#Show the plot\n",
    "plt.show()"
   ]
  },
  {
   "cell_type": "code",
   "execution_count": null,
   "id": "b98d65e9-cb01-49d9-adb8-f5b176372d2b",
   "metadata": {},
   "outputs": [],
   "source": [
    "print('mean duration: ',value_counts.mean())\n",
    "print('minimun duration: ',value_counts.min())"
   ]
  },
  {
   "cell_type": "markdown",
   "id": "856f3703-1bb9-47a9-83cb-17a9396cad4b",
   "metadata": {},
   "source": [
    "- ***duration tends to be:  300 seconds ->  around 5 min***\n",
    "- ***mean duration:         794 seconds ->13 min***\n",
    "- ***minimun duration :     1 second***"
   ]
  },
  {
   "cell_type": "markdown",
   "id": "fc3e76b3-758a-4b97-8fe3-c40c94b651b6",
   "metadata": {},
   "source": [
    "# Modelling"
   ]
  },
  {
   "cell_type": "markdown",
   "id": "16a21d30-4d4c-4d4b-b839-e310e318856f",
   "metadata": {},
   "source": [
    "#### Heat map with quantities and cities for number of sightings"
   ]
  },
  {
   "cell_type": "code",
   "execution_count": null,
   "id": "0bd1dd99-d33e-4cd4-833f-69cfe7b5b350",
   "metadata": {},
   "outputs": [],
   "source": [
    "df_clean.head()"
   ]
  },
  {
   "cell_type": "markdown",
   "id": "c186a4f4-0e6a-4461-a683-0dc41b3e38db",
   "metadata": {},
   "source": [
    "- To plot cities in GeoPandas, you need to have latitude and longitude information for each city. If you don't have this information in your dataframe, you can obtain it using a geocoding library"
   ]
  },
  {
   "cell_type": "code",
   "execution_count": null,
   "id": "a4194cd1-8ea3-4afa-97bf-6e415e31b1a5",
   "metadata": {},
   "outputs": [],
   "source": [
    "import geopandas as gpd\n",
    "import folium\n",
    "from geopy.geocoders import Nominatim\n",
    "import time\n",
    "\n",
    "# instantiate \n",
    "geolocator = Nominatim(user_agent=\"geoapiExercises\")\n",
    "\n",
    "# checker and returning execpt API not responding and timing out,\n",
    "def get_lat_long(city, state, country):\n",
    "    for i in range(3):\n",
    "        try:\n",
    "            location = geolocator.geocode(df['Location_Info'])\n",
    "            if location:\n",
    "                return (location.latitude, location.longitude)\n",
    "            else:\n",
    "                return (None, None)\n",
    "        except:\n",
    "            time.sleep(1)\n",
    "    return (None, None)\n",
    "\n",
    "df['lat_long'] = df.apply(lambda x: get_lat_long(x['City'], x['State'], x['Country']), axis=1)\n",
    "df[['latitude', 'longitude']] = pd.DataFrame(df['lat_long'].tolist(), index=df.index)\n",
    "df.drop(columns=['lat_long'], inplace=True)"
   ]
  },
  {
   "cell_type": "markdown",
   "id": "5e45d3d6-7c0b-44db-808e-82f8ef0d7d16",
   "metadata": {},
   "source": [
    "- Once you have the latitude and longitude information, you can create a GeoDataFrame and plot it using matplotlib:"
   ]
  },
  {
   "cell_type": "code",
   "execution_count": null,
   "id": "7214b9ae-47bc-4242-8567-c92db641d4ea",
   "metadata": {},
   "outputs": [],
   "source": [
    "import geopandas as gpd\n",
    "from shapely.geometry import Point\n",
    "\n",
    "geometry = [Point(xy) for xy in zip(df['longitude'], df['latitude'])]\n",
    "gdf = gpd.GeoDataFrame(df, geometry=geometry)\n",
    "\n",
    "gdf.plot(marker='o', color='red', markersize=5)\n"
   ]
  },
  {
   "cell_type": "markdown",
   "id": "b747f963-e21d-41dc-9312-361ad81434ec",
   "metadata": {},
   "source": [
    "# Communication"
   ]
  }
 ],
 "metadata": {
  "kernelspec": {
   "display_name": "Python 3 (ipykernel)",
   "language": "python",
   "name": "python3"
  },
  "language_info": {
   "codemirror_mode": {
    "name": "ipython",
    "version": 3
   },
   "file_extension": ".py",
   "mimetype": "text/x-python",
   "name": "python",
   "nbconvert_exporter": "python",
   "pygments_lexer": "ipython3",
   "version": "3.10.7"
  }
 },
 "nbformat": 4,
 "nbformat_minor": 5
}
