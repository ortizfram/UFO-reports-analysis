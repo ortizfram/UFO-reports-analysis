{
 "cells": [
  {
   "cell_type": "markdown",
   "id": "a714d386-3810-476c-9283-d4418570c865",
   "metadata": {},
   "source": [
    "**Franco Ortiz** :Data scientist\n",
    "\n",
    "UFO-reports-analysis\n",
    "# Problem Statement\n",
    "### Questions to answer\n",
    "- What time is more frequent to see them?\n",
    "- How long did the experience take?\n",
    "- What shapes are most common and where?\n",
    "- Top words that described that moment (wordcloud)\n",
    "- heat map with quantities and cities for number of sightings"
   ]
  },
  {
   "cell_type": "markdown",
   "id": "56c1994a-b5a5-4322-b596-080093d4d5a2",
   "metadata": {},
   "source": [
    "# Data importing\n",
    "#### modules"
   ]
  },
  {
   "cell_type": "code",
   "execution_count": 6,
   "id": "5b61bfed-f017-4faf-aabe-d908796334c8",
   "metadata": {},
   "outputs": [],
   "source": [
    "import pandas as pd\n",
    "import datetime as dt"
   ]
  },
  {
   "cell_type": "code",
   "execution_count": 2,
   "id": "bd7f4fbd-102a-4d8d-ab84-ad541323f6a6",
   "metadata": {},
   "outputs": [
    {
     "data": {
      "text/html": [
       "<div>\n",
       "<style scoped>\n",
       "    .dataframe tbody tr th:only-of-type {\n",
       "        vertical-align: middle;\n",
       "    }\n",
       "\n",
       "    .dataframe tbody tr th {\n",
       "        vertical-align: top;\n",
       "    }\n",
       "\n",
       "    .dataframe thead th {\n",
       "        text-align: right;\n",
       "    }\n",
       "</style>\n",
       "<table border=\"1\" class=\"dataframe\">\n",
       "  <thead>\n",
       "    <tr style=\"text-align: right;\">\n",
       "      <th></th>\n",
       "      <th>Date / Time</th>\n",
       "      <th>City</th>\n",
       "      <th>State</th>\n",
       "      <th>Country</th>\n",
       "      <th>Shape</th>\n",
       "      <th>Duration</th>\n",
       "      <th>Summary</th>\n",
       "      <th>Posted</th>\n",
       "      <th>Images</th>\n",
       "    </tr>\n",
       "  </thead>\n",
       "  <tbody>\n",
       "    <tr>\n",
       "      <th>0</th>\n",
       "      <td>00:00</td>\n",
       "      <td>Dieppe (Moncton) (Canada)</td>\n",
       "      <td>NB</td>\n",
       "      <td>Canada</td>\n",
       "      <td>Oval</td>\n",
       "      <td>NaN</td>\n",
       "      <td>((HOAX??)) we wher looking .. in the sky in di...</td>\n",
       "      <td>9/24/12</td>\n",
       "      <td>NaN</td>\n",
       "    </tr>\n",
       "    <tr>\n",
       "      <th>1</th>\n",
       "      <td>4/ 23:22</td>\n",
       "      <td>Atlantic City</td>\n",
       "      <td>NJ</td>\n",
       "      <td>USA</td>\n",
       "      <td>Disk</td>\n",
       "      <td>30 minutes</td>\n",
       "      <td>Observed a very bright white saucer (had two l...</td>\n",
       "      <td>5/6/17</td>\n",
       "      <td>NaN</td>\n",
       "    </tr>\n",
       "    <tr>\n",
       "      <th>2</th>\n",
       "      <td>03142020 23:04</td>\n",
       "      <td>Norwich</td>\n",
       "      <td>VT</td>\n",
       "      <td>USA</td>\n",
       "      <td>Circle</td>\n",
       "      <td>97 seconds</td>\n",
       "      <td>Strange sighting in the sky</td>\n",
       "      <td>5/15/20</td>\n",
       "      <td>NaN</td>\n",
       "    </tr>\n",
       "    <tr>\n",
       "      <th>3</th>\n",
       "      <td>1970s 23:00</td>\n",
       "      <td>Grande Summit</td>\n",
       "      <td>PA</td>\n",
       "      <td>USA</td>\n",
       "      <td>Light</td>\n",
       "      <td>5 minutes</td>\n",
       "      <td>4 lights speeding very fast across sky silently</td>\n",
       "      <td>8/16/21</td>\n",
       "      <td>NaN</td>\n",
       "    </tr>\n",
       "    <tr>\n",
       "      <th>4</th>\n",
       "      <td>23:00</td>\n",
       "      <td>Desolation Wilderness</td>\n",
       "      <td>CA</td>\n",
       "      <td>USA</td>\n",
       "      <td>Triangle</td>\n",
       "      <td>2 min.</td>\n",
       "      <td>triangle of lights moving slowly through the n...</td>\n",
       "      <td>9/15/05</td>\n",
       "      <td>NaN</td>\n",
       "    </tr>\n",
       "    <tr>\n",
       "      <th>5</th>\n",
       "      <td>23:00</td>\n",
       "      <td>Playa del Rey</td>\n",
       "      <td>CA</td>\n",
       "      <td>USA</td>\n",
       "      <td>Fireball</td>\n",
       "      <td>3-5 seconds</td>\n",
       "      <td>Neon green, long-tailed fireball meteor-lookin...</td>\n",
       "      <td>7/8/04</td>\n",
       "      <td>NaN</td>\n",
       "    </tr>\n",
       "    <tr>\n",
       "      <th>6</th>\n",
       "      <td>23:00</td>\n",
       "      <td>Milltown (Canada)</td>\n",
       "      <td>NB</td>\n",
       "      <td>Canada</td>\n",
       "      <td>Circle</td>\n",
       "      <td>NaN</td>\n",
       "      <td>I wonder where they are today, and if they are...</td>\n",
       "      <td>6/4/04</td>\n",
       "      <td>NaN</td>\n",
       "    </tr>\n",
       "    <tr>\n",
       "      <th>7</th>\n",
       "      <td>23:00</td>\n",
       "      <td>Manning</td>\n",
       "      <td>SC</td>\n",
       "      <td>USA</td>\n",
       "      <td>Sphere</td>\n",
       "      <td>2 minutes</td>\n",
       "      <td>The object was metallic in color. Spherical in...</td>\n",
       "      <td>6/25/20</td>\n",
       "      <td>NaN</td>\n",
       "    </tr>\n",
       "    <tr>\n",
       "      <th>8</th>\n",
       "      <td>23:00</td>\n",
       "      <td>New Alexandria</td>\n",
       "      <td>PA</td>\n",
       "      <td>USA</td>\n",
       "      <td>Other</td>\n",
       "      <td>15 minutes</td>\n",
       "      <td>Translucent UFO.</td>\n",
       "      <td>5/9/19</td>\n",
       "      <td>NaN</td>\n",
       "    </tr>\n",
       "    <tr>\n",
       "      <th>9</th>\n",
       "      <td>23:00</td>\n",
       "      <td>Northern California Coast (in, highway)</td>\n",
       "      <td>CA</td>\n",
       "      <td>USA</td>\n",
       "      <td>Cigar</td>\n",
       "      <td>3-5 min.</td>\n",
       "      <td>We were travelling along the coast of Californ...</td>\n",
       "      <td>10/2/99</td>\n",
       "      <td>NaN</td>\n",
       "    </tr>\n",
       "  </tbody>\n",
       "</table>\n",
       "</div>"
      ],
      "text/plain": [
       "      Date / Time                                     City State Country  \\\n",
       "0           00:00                Dieppe (Moncton) (Canada)    NB  Canada   \n",
       "1        4/ 23:22                            Atlantic City    NJ     USA   \n",
       "2  03142020 23:04                                  Norwich    VT     USA   \n",
       "3     1970s 23:00                            Grande Summit    PA     USA   \n",
       "4           23:00                    Desolation Wilderness    CA     USA   \n",
       "5           23:00                            Playa del Rey    CA     USA   \n",
       "6           23:00                        Milltown (Canada)    NB  Canada   \n",
       "7           23:00                                  Manning    SC     USA   \n",
       "8           23:00                           New Alexandria    PA     USA   \n",
       "9           23:00  Northern California Coast (in, highway)    CA     USA   \n",
       "\n",
       "      Shape     Duration                                            Summary  \\\n",
       "0      Oval          NaN  ((HOAX??)) we wher looking .. in the sky in di...   \n",
       "1      Disk   30 minutes  Observed a very bright white saucer (had two l...   \n",
       "2    Circle   97 seconds                        Strange sighting in the sky   \n",
       "3     Light    5 minutes    4 lights speeding very fast across sky silently   \n",
       "4  Triangle       2 min.  triangle of lights moving slowly through the n...   \n",
       "5  Fireball  3-5 seconds  Neon green, long-tailed fireball meteor-lookin...   \n",
       "6    Circle          NaN  I wonder where they are today, and if they are...   \n",
       "7    Sphere    2 minutes  The object was metallic in color. Spherical in...   \n",
       "8     Other   15 minutes                                   Translucent UFO.   \n",
       "9     Cigar     3-5 min.  We were travelling along the coast of Californ...   \n",
       "\n",
       "    Posted Images  \n",
       "0  9/24/12    NaN  \n",
       "1   5/6/17    NaN  \n",
       "2  5/15/20    NaN  \n",
       "3  8/16/21    NaN  \n",
       "4  9/15/05    NaN  \n",
       "5   7/8/04    NaN  \n",
       "6   6/4/04    NaN  \n",
       "7  6/25/20    NaN  \n",
       "8   5/9/19    NaN  \n",
       "9  10/2/99    NaN  "
      ]
     },
     "execution_count": 2,
     "metadata": {},
     "output_type": "execute_result"
    }
   ],
   "source": [
    "df = pd.read_csv(\"data/ufo.csv\")\n",
    "df.head(10)"
   ]
  },
  {
   "cell_type": "code",
   "execution_count": 16,
   "id": "ef277953-a832-4286-88e9-d9204c623828",
   "metadata": {},
   "outputs": [
    {
     "data": {
      "text/plain": [
       "Index(['Date / Time', 'City', 'State', 'Country', 'Shape', 'Duration',\n",
       "       'Summary', 'Posted', 'Images', 'Date', 'Time'],\n",
       "      dtype='object')"
      ]
     },
     "execution_count": 16,
     "metadata": {},
     "output_type": "execute_result"
    }
   ],
   "source": [
    "df.columns"
   ]
  },
  {
   "cell_type": "markdown",
   "id": "f6d56780-dbe5-4aed-bebb-f69e261de6dc",
   "metadata": {},
   "source": [
    "# Data Cleaning"
   ]
  },
  {
   "cell_type": "markdown",
   "id": "5202eadf-351f-41a3-bddb-58834ac5e2cf",
   "metadata": {},
   "source": [
    "#### date range of timestamps "
   ]
  },
  {
   "cell_type": "code",
   "execution_count": 3,
   "id": "695faa0b-aa4e-4d2c-b505-8f7387b54301",
   "metadata": {},
   "outputs": [
    {
     "name": "stdout",
     "output_type": "stream",
     "text": [
      "1677-09-21 00:12:43.145224193\n",
      "2262-04-11 23:47:16.854775807\n"
     ]
    }
   ],
   "source": [
    "print(pd.Timestamp.min)\n",
    "print(pd.Timestamp.max)"
   ]
  },
  {
   "cell_type": "markdown",
   "id": "261bc801-9f6a-4ec8-bb89-f0e9a452e7c1",
   "metadata": {},
   "source": [
    "#### splitting datetime column\n",
    "outside Timestamp range is NaT value"
   ]
  },
  {
   "cell_type": "code",
   "execution_count": null,
   "id": "479f845c-dc0f-4126-8430-d692f91847fd",
   "metadata": {},
   "outputs": [],
   "source": [
    "# here i'll be loosing data \n",
    "#df['Date'] = pd.to_datetime(df['Date / Time'], errors = 'coerce').dt.date\n",
    "#df['Time'] = pd.to_datetime(df['Date / Time'], errors = 'coerce').dt.time\n",
    "\n",
    "# HERE not : try strftime\n",
    "df['Date / Time'] = pd.to_datetime(df['Date / Time'])\n",
    "df['Date'] = df['Date / Time'].dt.strftime('%Y/%m/%d')\n",
    "df['Time'] = df['Date / Time'].dt.strftime('%H:%M')\n",
    "df.head(10)"
   ]
  },
  {
   "cell_type": "markdown",
   "id": "b52cd423-de88-4807-8221-bd36515da777",
   "metadata": {},
   "source": [
    "# EDA"
   ]
  },
  {
   "cell_type": "markdown",
   "id": "608fab65-790b-4814-99bd-49e2812dd4a8",
   "metadata": {},
   "source": [
    "# Feature Engineering"
   ]
  },
  {
   "cell_type": "markdown",
   "id": "fc3e76b3-758a-4b97-8fe3-c40c94b651b6",
   "metadata": {},
   "source": [
    "# Modelling"
   ]
  },
  {
   "cell_type": "markdown",
   "id": "b747f963-e21d-41dc-9312-361ad81434ec",
   "metadata": {},
   "source": [
    "# Communication"
   ]
  }
 ],
 "metadata": {
  "kernelspec": {
   "display_name": "Python 3 (ipykernel)",
   "language": "python",
   "name": "python3"
  },
  "language_info": {
   "codemirror_mode": {
    "name": "ipython",
    "version": 3
   },
   "file_extension": ".py",
   "mimetype": "text/x-python",
   "name": "python",
   "nbconvert_exporter": "python",
   "pygments_lexer": "ipython3",
   "version": "3.10.7"
  }
 },
 "nbformat": 4,
 "nbformat_minor": 5
}
